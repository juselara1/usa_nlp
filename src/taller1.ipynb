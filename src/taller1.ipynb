{
 "cells": [
  {
   "cell_type": "markdown",
   "id": "b89be28d",
   "metadata": {},
   "source": [
    "# Procesamiento de Lenguaje Natural - Taller 1\n",
    "---\n",
    "\n",
    "En este taller evaluaremos manipulación básica de strings con _Python_ y las técnicas generales de preprocesamiento en NLP.\n",
    "\n",
    "Comenzamos instalando algunas librerías necesarias:"
   ]
  },
  {
   "cell_type": "code",
   "execution_count": null,
   "id": "7574af36",
   "metadata": {
    "title": "[code]"
   },
   "outputs": [],
   "source": [
    "!pip install nltk spacy"
   ]
  },
  {
   "cell_type": "markdown",
   "id": "7b0898e2",
   "metadata": {},
   "source": [
    "Importamos algunas utilidades:"
   ]
  },
  {
   "cell_type": "code",
   "execution_count": null,
   "id": "d7788d0b",
   "metadata": {
    "title": "[code]"
   },
   "outputs": [],
   "source": [
    "import re, nltk, spacy"
   ]
  },
  {
   "cell_type": "markdown",
   "id": "e2d7976a",
   "metadata": {},
   "source": [
    "> **Nota**: si necesita importar más librerías o utilidades, puede hacerlo en la siguiente celda:"
   ]
  },
  {
   "cell_type": "code",
   "execution_count": null,
   "id": "006ede65",
   "metadata": {
    "title": "[code]"
   },
   "outputs": [],
   "source": [
    "# INGRESE SU CÓDIGO ACÁ"
   ]
  },
  {
   "cell_type": "markdown",
   "id": "3ae1bc83",
   "metadata": {},
   "source": [
    "## 1. Regex para URLs\n",
    "---\n",
    "\n",
    "En este punto deberá implementar una expresión regular que permita extraer una url válida a partir de cualquier texto. A continuación encuentra algunos casos de prueba:"
   ]
  },
  {
   "cell_type": "code",
   "execution_count": null,
   "id": "11489b8e",
   "metadata": {
    "title": "[code]"
   },
   "outputs": [],
   "source": [
    "cases = [\n",
    "    \"el enlace de conexion es: https://meet.google.com/\",\n",
    "    \"puedes abrir el correo: https://mail.google.com/mail/u/0/#inbox\",\n",
    "    \"intenta acceder por medio de http://localhost:8080 no olvides el puerto!\",\n",
    "    \"Puedes conectarte usando la ip por https, asi: https://288.389.77.233\",\n",
    "    \"Tenia la direccion mal escrita: htt://google.com, cuando era asi: https://google.com\",\n",
    "    \"Puedes usar una busqueda parametrizada asi: https://www.google.com/search?q=direccionip&rlz=1C1ALOY_esCO998CO998&oq=direccionip&aqs=chrome..69i57j0i10i433j0i10l8.1815j0j7&sourceid=chrome&ie=UTF-8\",\n",
    "    \"la pagina de la universidad es: https://estudiar.usergioarboleda.edu.co/pre_ciencias_computacion_inteligencia_artificial?utm_source=google&utm_source=adwords&utm_medium=cpc&utm_medium=ppc&utm_campaign=ClientifyGOO&utm_campaign=&utm_id=1544646&utm_term=new&utm_term=ingenieria%20artificial&utm_content=new&ctf_src=g&ctf_net=adwords&ctf_mt=b&ctf_grp=125382574463&ctf_ver=1&ctf_cam=14508636194&ctf_kw=ingenieria%20artificial&ctf_acc=590-002-7437&ctf_ad=543334172074&ctf_tgt=kwd-313282595267&gclid=Cj0KCQjwl92XBhC7ARIsAHLl9ak1faqkTSka71eVKGz5qKo3BCPnao0VCXtfbkPC8AGDJjj4Fb6uDuYaAtObEALw_wcB\"\n",
    "]"
   ]
  },
  {
   "cell_type": "markdown",
   "id": "83d5b3ef",
   "metadata": {},
   "source": [
    "Implemente la expresión regular en la siguiente variable:"
   ]
  },
  {
   "cell_type": "code",
   "execution_count": null,
   "id": "031a5294",
   "metadata": {
    "title": "[code]"
   },
   "outputs": [],
   "source": [
    "# INGRESE SU CÓDIGO ACÁ\n",
    "pat = ..."
   ]
  },
  {
   "cell_type": "markdown",
   "id": "1840f3c8",
   "metadata": {},
   "source": [
    "Utilice la siguiente celda para validar que la expresión regular sea correcta:"
   ]
  },
  {
   "cell_type": "code",
   "execution_count": null,
   "id": "f98b1a33",
   "metadata": {
    "title": "[code]"
   },
   "outputs": [],
   "source": [
    "matches = map(\n",
    "        lambda case: re.search(pat, case),\n",
    "        cases\n",
    "        )\n",
    "for match in matches:\n",
    "    print(match)"
   ]
  },
  {
   "cell_type": "markdown",
   "id": "a9e50f90",
   "metadata": {},
   "source": [
    "## 2. Regex para direcciones IP\n",
    "---\n",
    "\n",
    "En este punto deberá implementar una expresión regular para extraer direcciones IPv4. A continuación encuentra algunos casos de prueba:"
   ]
  },
  {
   "cell_type": "code",
   "execution_count": null,
   "id": "337906a8",
   "metadata": {
    "title": "[code]"
   },
   "outputs": [],
   "source": [
    "cases = [\n",
    "    \"el localhost está en 0.0.0.0 junto a la aplicación\",\n",
    "    \"la direccion ip de mi computador en LAN es 192.168.0.37\",\n",
    "    \"la direccion ip publica es: 234.189.99.233, conectate.\",\n",
    "    \"puedes realizar una conexion por ssh al servidor 234.88.99.32:22\",\n",
    "    \"realizamos una transferencia de archivos por ftp://234.89.37.10\"\n",
    "]"
   ]
  },
  {
   "cell_type": "markdown",
   "id": "3f468387",
   "metadata": {},
   "source": [
    "Implemente la expresión regular en la siguiente variable:"
   ]
  },
  {
   "cell_type": "code",
   "execution_count": null,
   "id": "05c5451c",
   "metadata": {
    "title": "[code]"
   },
   "outputs": [],
   "source": [
    "# INGRESE SU CÓDIGO ACÁ\n",
    "pat = ..."
   ]
  },
  {
   "cell_type": "markdown",
   "id": "70b9cfb6",
   "metadata": {},
   "source": [
    "Utilice la siguiente celda para validar que la expresión regular sea correcta:"
   ]
  },
  {
   "cell_type": "code",
   "execution_count": null,
   "id": "0d187d95",
   "metadata": {
    "title": "[code]"
   },
   "outputs": [],
   "source": [
    "matches = map(\n",
    "        lambda case: re.search(pat, case),\n",
    "        cases\n",
    "        )\n",
    "for match in matches:\n",
    "    print(match)"
   ]
  },
  {
   "cell_type": "markdown",
   "id": "874c2535",
   "metadata": {},
   "source": [
    "## 3. Regex para Direcciones de Bogota\n",
    "---\n",
    "\n",
    "En este punto debe implementar una expresión regular que permita extraer direcciones de Bogotá, puede guiarse de los casos de prueba para entender cómo es la estructura esperada de direcciones:"
   ]
  },
  {
   "cell_type": "code",
   "execution_count": null,
   "id": "222f834d",
   "metadata": {
    "title": "[code]"
   },
   "outputs": [],
   "source": [
    "cases = [\n",
    "    \"La dirección es carrera 33 #77B - 38\",\n",
    "    \"Estoy en calle 77A #38C - 93\",\n",
    "    \"Antes vivía en avenida 68 #69d - 77\",\n",
    "    \"Ahora estoy en carrera 112B #88c - 50\",\n",
    "]"
   ]
  },
  {
   "cell_type": "markdown",
   "id": "542bf0d6",
   "metadata": {},
   "source": [
    "Implemente la expresión regular en la siguiente variable:"
   ]
  },
  {
   "cell_type": "code",
   "execution_count": null,
   "id": "e41d44e3",
   "metadata": {
    "title": "[code]"
   },
   "outputs": [],
   "source": [
    "# INGRESE SU CÓDIGO ACÁ\n",
    "pat = ..."
   ]
  },
  {
   "cell_type": "markdown",
   "id": "7b479e6f",
   "metadata": {},
   "source": [
    "Utilice la siguiente celda para validar que la expresión regular sea correcta:"
   ]
  },
  {
   "cell_type": "code",
   "execution_count": null,
   "id": "1f1895d5",
   "metadata": {
    "title": "[code]"
   },
   "outputs": [],
   "source": [
    "matches = map(\n",
    "        lambda case: re.search(pat, case),\n",
    "        cases\n",
    "        )\n",
    "for match in matches:\n",
    "    print(match)"
   ]
  },
  {
   "cell_type": "markdown",
   "id": "a6a01240",
   "metadata": {},
   "source": [
    "## 4. Regex para Matriculas de Carros\n",
    "---\n",
    "\n",
    "En este punto debe implementar una expresión regular que permita extraer placas de automóviles de carros en Colombia. Vamos a usar los siguientes casos de prueba:"
   ]
  },
  {
   "cell_type": "code",
   "execution_count": null,
   "id": "11733c04",
   "metadata": {
    "title": "[code]"
   },
   "outputs": [],
   "source": [
    "cases = [\n",
    "    \"La matricula es RKO123\",\n",
    "    \"mi carro tiene pico y placa hoy, la placa es: XZY388\",\n",
    "    \"Me molestaron por la placa de mi carro: SEX069\"\n",
    "]"
   ]
  },
  {
   "cell_type": "markdown",
   "id": "fc6c13a2",
   "metadata": {},
   "source": [
    "Implemente la expresión regular en la siguiente variable:"
   ]
  },
  {
   "cell_type": "code",
   "execution_count": null,
   "id": "f02ea7b8",
   "metadata": {
    "title": "[code]"
   },
   "outputs": [],
   "source": [
    "# INGRESE SU CÓDIGO ACÁ\n",
    "pat = ..."
   ]
  },
  {
   "cell_type": "markdown",
   "id": "c363d525",
   "metadata": {},
   "source": [
    "Utilice la siguiente celda para validar que la expresión regular sea correcta:"
   ]
  },
  {
   "cell_type": "code",
   "execution_count": null,
   "id": "43f05759",
   "metadata": {
    "title": "[code]"
   },
   "outputs": [],
   "source": [
    "matches = map(\n",
    "        lambda case: re.search(pat, case),\n",
    "        cases\n",
    "        )\n",
    "for match in matches:\n",
    "    print(match)"
   ]
  },
  {
   "cell_type": "markdown",
   "id": "543a78bf",
   "metadata": {},
   "source": [
    "## 6. Regex para Fechas (extraer dia, mes, etc)\n",
    "---\n",
    "\n",
    "Implemente una expresión regular que permita extraer fechas, asuma un formato de `%Y-%m-%d`. Veamos los casos de prueba:"
   ]
  },
  {
   "cell_type": "code",
   "execution_count": null,
   "id": "143d8ecb",
   "metadata": {
    "title": "[code]"
   },
   "outputs": [],
   "source": [
    "cases = [\n",
    "    \"Nos vimos el 2022-08-08\",\n",
    "    \"El evento ocurre entre 2022-07-13 y 2022-08-09\",\n",
    "    \"Navidad lo comenzamos a celebrar en 2021-12-24\"\n",
    "]"
   ]
  },
  {
   "cell_type": "markdown",
   "id": "e134b07a",
   "metadata": {},
   "source": [
    "Implemente la expresión regular en la siguiente variable:"
   ]
  },
  {
   "cell_type": "code",
   "execution_count": null,
   "id": "7f6c53be",
   "metadata": {
    "title": "[code]"
   },
   "outputs": [],
   "source": [
    "# INGRESE SU CÓDIGO ACÁ\n",
    "pat = ..."
   ]
  },
  {
   "cell_type": "markdown",
   "id": "ca59c88c",
   "metadata": {},
   "source": [
    "Utilice la siguiente celda para validar que la expresión regular sea correcta:"
   ]
  },
  {
   "cell_type": "code",
   "execution_count": null,
   "id": "b2e2641d",
   "metadata": {
    "title": "[code]"
   },
   "outputs": [],
   "source": [
    "matches = map(\n",
    "        lambda case: re.search(pat, case),\n",
    "        cases\n",
    "        )\n",
    "for match in matches:\n",
    "    print(match)"
   ]
  },
  {
   "cell_type": "markdown",
   "id": "83a7f144",
   "metadata": {},
   "source": [
    "## 7. Detectar correos academicos en Colombia\n",
    "---\n",
    "\n",
    "Implemente una expresión regular que permita extraer correos electrónicos académicos (de universidades). Veamos los casos de prueba:"
   ]
  },
  {
   "cell_type": "code",
   "execution_count": null,
   "id": "ffd90b82",
   "metadata": {
    "title": "[code]"
   },
   "outputs": [],
   "source": [
    "cases = [\n",
    "    \"Mi correo es juan.lara@correo.edu.co\",\n",
    "    \"Me pueden escribir a pepe.ganga-a@universidad.edu.co\",\n",
    "    \"Mi correo antes era correo@gmail.com, ahora uso el institucional: correo@uvida.edu.co\"\n",
    "]"
   ]
  },
  {
   "cell_type": "markdown",
   "id": "a841cb3e",
   "metadata": {},
   "source": [
    "Implemente la expresión regular en la siguiente variable:"
   ]
  },
  {
   "cell_type": "code",
   "execution_count": null,
   "id": "8653711b",
   "metadata": {
    "title": "[code]"
   },
   "outputs": [],
   "source": [
    "# INGRESE SU CÓDIGO ACÁ\n",
    "pat = ..."
   ]
  },
  {
   "cell_type": "markdown",
   "id": "0a9790a5",
   "metadata": {},
   "source": [
    "Utilice la siguiente celda para validar que la expresión regular sea correcta:"
   ]
  },
  {
   "cell_type": "code",
   "execution_count": null,
   "id": "c8ac03a7",
   "metadata": {
    "lines_to_next_cell": 1,
    "title": "[code]"
   },
   "outputs": [],
   "source": [
    "matches = map(\n",
    "        lambda case: re.search(pat, case),\n",
    "        cases\n",
    "        )\n",
    "for match in matches:\n",
    "    print(match)"
   ]
  },
  {
   "cell_type": "markdown",
   "id": "d1a3d047",
   "metadata": {},
   "source": [
    "# 8. Preprocesamiento\n",
    "\n",
    "Escriba una funcion que realice las siguientes operaciones (puede usar `nltk` o `spacy`):\n",
    "\n",
    "1. Tokenizacion por palabras.\n",
    "2. Convertir a minusculas.\n",
    "3. Eliminar stopwords.\n",
    "4. Filtrar todos los tokens con menos de 3 caracteres y mas de 15.\n",
    "5. Normalizar caracteres (`unidecode`).\n",
    "6. Eliminar todos los caracteres que no sean letras, numeros, comas y puntos.\n",
    "7. Lematizar el texto."
   ]
  },
  {
   "cell_type": "code",
   "execution_count": null,
   "id": "46be0ae6",
   "metadata": {
    "lines_to_next_cell": 1,
    "title": "[code]"
   },
   "outputs": [],
   "source": [
    "# INGRESE SU CÓDIGO ACÁ\n",
    "def preprocess(text: str) -> str:\n",
    "    ..."
   ]
  },
  {
   "cell_type": "markdown",
   "id": "455b304c",
   "metadata": {},
   "source": [
    "Agregue tres fragmentos de texto en la siguiente lista:"
   ]
  },
  {
   "cell_type": "code",
   "execution_count": null,
   "id": "cf5d4d78",
   "metadata": {
    "title": "[code]"
   },
   "outputs": [],
   "source": [
    "# INGRESE SU CÓDIGO ACÁ\n",
    "cases = [] "
   ]
  },
  {
   "cell_type": "markdown",
   "id": "6fad2f9b",
   "metadata": {},
   "source": [
    "Valide el uso de la función:"
   ]
  },
  {
   "cell_type": "code",
   "execution_count": null,
   "id": "c82a8166",
   "metadata": {
    "title": "[code]"
   },
   "outputs": [],
   "source": [
    "preprocessed_cases = map(preprocess, cases)\n",
    "for case in preprocessed_cases:\n",
    "    print(case)"
   ]
  }
 ],
 "metadata": {
  "jupytext": {
   "formats": "py:percent,ipynb",
   "main_language": "python"
  },
  "kernelspec": {
   "display_name": "Python 3",
   "name": "python3"
  }
 },
 "nbformat": 4,
 "nbformat_minor": 5
}
